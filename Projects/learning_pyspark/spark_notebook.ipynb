{
 "cells": [
  {
   "cell_type": "markdown",
   "id": "7b1f6c7e",
   "metadata": {},
   "source": [
    "# <font color=hotpink> Spark Notebook </font>\n",
    "\n",
    "- Notebook to test and run spark code. "
   ]
  },
  {
   "cell_type": "markdown",
   "id": "8f8c8444",
   "metadata": {},
   "source": [
    "### <font color=\"#765341\"> Test code </font>\n",
    "- Code to check whether `Spark Context` is working with jupyter notebook or not."
   ]
  },
  {
   "cell_type": "code",
   "execution_count": 1,
   "id": "432e04a2",
   "metadata": {},
   "outputs": [
    {
     "data": {
      "text/html": [
       "\n",
       "        <div>\n",
       "            <p><b>SparkContext</b></p>\n",
       "\n",
       "            <p><a href=\"http://thunderboltz-HP-Notebook.lan:4040\">Spark UI</a></p>\n",
       "\n",
       "            <dl>\n",
       "              <dt>Version</dt>\n",
       "                <dd><code>v3.5.6</code></dd>\n",
       "              <dt>Master</dt>\n",
       "                <dd><code>local[2]</code></dd>\n",
       "              <dt>AppName</dt>\n",
       "                <dd><code>PySparkShell</code></dd>\n",
       "            </dl>\n",
       "        </div>\n",
       "        "
      ],
      "text/plain": [
       "<SparkContext master=local[2] appName=PySparkShell>"
      ]
     },
     "execution_count": 1,
     "metadata": {},
     "output_type": "execute_result"
    }
   ],
   "source": [
    "sc"
   ]
  },
  {
   "cell_type": "code",
   "execution_count": 2,
   "id": "162070d1",
   "metadata": {},
   "outputs": [
    {
     "name": "stderr",
     "output_type": "stream",
     "text": [
      "\r",
      "[Stage 0:>                                                          (0 + 2) / 2]\r"
     ]
    },
    {
     "name": "stdout",
     "output_type": "stream",
     "text": [
      "55\n"
     ]
    },
    {
     "name": "stderr",
     "output_type": "stream",
     "text": [
      "25/08/17 21:53:44 WARN GarbageCollectionMetrics: To enable non-built-in garbage collector(s) List(G1 Concurrent GC), users should configure it(them) to spark.eventLog.gcMetrics.youngGenerationGarbageCollectors or spark.eventLog.gcMetrics.oldGenerationGarbageCollectors\n"
     ]
    }
   ],
   "source": [
    "# Create a list of integers\n",
    "numberArray = [1, 2, 3, 4, 5, 6, 7, 8, 9, 10]\n",
    "\n",
    "# Parallelize the list into an RDD\n",
    "numbersRDD = sc.parallelize(numberArray)\n",
    "\n",
    "# Perform a reduction operation to calculate the sum\n",
    "sumTotal = numbersRDD.reduce(lambda a, b: a + b)\n",
    "\n",
    "# Print the result\n",
    "print(sumTotal)   "
   ]
  },
  {
   "cell_type": "markdown",
   "id": "cf4cd7bb",
   "metadata": {},
   "source": []
  }
 ],
 "metadata": {
  "kernelspec": {
   "display_name": "Python 3 (ipykernel)",
   "language": "python",
   "name": "python3"
  },
  "language_info": {
   "codemirror_mode": {
    "name": "ipython",
    "version": 3
   },
   "file_extension": ".py",
   "mimetype": "text/x-python",
   "name": "python",
   "nbconvert_exporter": "python",
   "pygments_lexer": "ipython3",
   "version": "3.12.3"
  }
 },
 "nbformat": 4,
 "nbformat_minor": 5
}
