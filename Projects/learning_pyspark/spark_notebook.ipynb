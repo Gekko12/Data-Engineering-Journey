{
 "cells": [
  {
   "cell_type": "markdown",
   "id": "7b1f6c7e",
   "metadata": {},
   "source": [
    "# <font color=hotpink> Spark Notebook </font>\n",
    "\n",
    "- Notebook to test and run spark code. "
   ]
  },
  {
   "cell_type": "markdown",
   "id": "8f8c8444",
   "metadata": {},
   "source": [
    "### <font color=\"#765341\"> Test code </font>\n",
    "- Code to check whether `Spark Context` is working with jupyter notebook or not."
   ]
  },
  {
   "cell_type": "code",
   "execution_count": 1,
   "id": "432e04a2",
   "metadata": {},
   "outputs": [
    {
     "data": {
      "text/html": [
       "\n",
       "        <div>\n",
       "            <p><b>SparkContext</b></p>\n",
       "\n",
       "            <p><a href=\"http://thunderboltz-HP-Notebook.lan:4041\">Spark UI</a></p>\n",
       "\n",
       "            <dl>\n",
       "              <dt>Version</dt>\n",
       "                <dd><code>v3.5.6</code></dd>\n",
       "              <dt>Master</dt>\n",
       "                <dd><code>local[2]</code></dd>\n",
       "              <dt>AppName</dt>\n",
       "                <dd><code>PySparkShell</code></dd>\n",
       "            </dl>\n",
       "        </div>\n",
       "        "
      ],
      "text/plain": [
       "<SparkContext master=local[2] appName=PySparkShell>"
      ]
     },
     "execution_count": 1,
     "metadata": {},
     "output_type": "execute_result"
    }
   ],
   "source": [
    "sc"
   ]
  },
  {
   "cell_type": "code",
   "execution_count": 2,
   "id": "162070d1",
   "metadata": {},
   "outputs": [
    {
     "name": "stderr",
     "output_type": "stream",
     "text": [
      "\r",
      "[Stage 0:>                                                          (0 + 2) / 2]\r"
     ]
    },
    {
     "name": "stdout",
     "output_type": "stream",
     "text": [
      "55\n"
     ]
    },
    {
     "name": "stderr",
     "output_type": "stream",
     "text": [
      "25/08/17 21:53:44 WARN GarbageCollectionMetrics: To enable non-built-in garbage collector(s) List(G1 Concurrent GC), users should configure it(them) to spark.eventLog.gcMetrics.youngGenerationGarbageCollectors or spark.eventLog.gcMetrics.oldGenerationGarbageCollectors\n"
     ]
    }
   ],
   "source": [
    "# Create a list of integers\n",
    "numberArray = [1, 2, 3, 4, 5, 6, 7, 8, 9, 10]\n",
    "\n",
    "# Parallelize the list into an RDD\n",
    "numbersRDD = sc.parallelize(numberArray)\n",
    "\n",
    "# Perform a reduction operation to calculate the sum\n",
    "sumTotal = numbersRDD.reduce(lambda a, b: a + b)\n",
    "\n",
    "# Print the result\n",
    "print(sumTotal)   "
   ]
  },
  {
   "cell_type": "code",
   "execution_count": 1,
   "id": "b640fa81",
   "metadata": {},
   "outputs": [],
   "source": [
    "from pyspark.sql import SparkSession"
   ]
  },
  {
   "cell_type": "code",
   "execution_count": 2,
   "id": "0bb41173",
   "metadata": {},
   "outputs": [
    {
     "name": "stderr",
     "output_type": "stream",
     "text": [
      "25/09/09 21:41:44 WARN SparkSession: Using an existing Spark session; only runtime SQL configurations will take effect.\n"
     ]
    }
   ],
   "source": [
    "spark = SparkSession \\\n",
    "    .builder \\\n",
    "    .appName(\"Data Frame Example\") \\\n",
    "    .config(\"spark.some.config.option\", \"some-value\") \\\n",
    "    .getOrCreate()"
   ]
  },
  {
   "cell_type": "code",
   "execution_count": 4,
   "id": "4e99c32c",
   "metadata": {},
   "outputs": [],
   "source": [
    "from pyspark.sql import *"
   ]
  },
  {
   "cell_type": "code",
   "execution_count": 5,
   "id": "18902e8d",
   "metadata": {},
   "outputs": [],
   "source": [
    "Student = Row(\"firstName\", \"lastName\", \"age\", \"telephone\")\n",
    "s1 = Student('David', 'Julian', 22, 100000)\n",
    "s2 = Student('Mark', 'Webb', 23, 658545)"
   ]
  },
  {
   "cell_type": "code",
   "execution_count": 8,
   "id": "a1d49bf8",
   "metadata": {},
   "outputs": [
    {
     "name": "stderr",
     "output_type": "stream",
     "text": [
      "                                                                                \r"
     ]
    },
    {
     "name": "stdout",
     "output_type": "stream",
     "text": [
      "+---------+--------+---+---------+\n",
      "|firstName|lastName|age|telephone|\n",
      "+---------+--------+---+---------+\n",
      "|    David|  Julian| 22|   100000|\n",
      "|     Mark|    Webb| 23|   658545|\n",
      "+---------+--------+---+---------+\n",
      "\n"
     ]
    }
   ],
   "source": [
    "StudentData=[s1,s2]\n",
    "df=spark.createDataFrame(StudentData)\n",
    "df.show()"
   ]
  },
  {
   "cell_type": "code",
   "execution_count": 9,
   "id": "8a54e35d",
   "metadata": {},
   "outputs": [],
   "source": [
    "from pyspark.sql import *"
   ]
  },
  {
   "cell_type": "code",
   "execution_count": 11,
   "id": "d8a70f4e",
   "metadata": {},
   "outputs": [
    {
     "name": "stderr",
     "output_type": "stream",
     "text": [
      "25/09/09 22:19:07 WARN SparkSession: Using an existing Spark session; only runtime SQL configurations will take effect.\n"
     ]
    }
   ],
   "source": [
    "spark = SparkSession.builder.appName('handson-1').getOrCreate()"
   ]
  },
  {
   "cell_type": "code",
   "execution_count": 12,
   "id": "658f54c7",
   "metadata": {},
   "outputs": [],
   "source": [
    "passenger = Row('Name', 'Age', 'Source', 'Destination')\n",
    "r1 = passenger('David', 22, 'London', 'Sydney')\n",
    "r2 = passenger('Steve', 22, 'New York', 'LA')\n",
    "data = [r1, r2]\n",
    "df = spark.createDataFrame(data)"
   ]
  },
  {
   "cell_type": "code",
   "execution_count": 13,
   "id": "4157d378",
   "metadata": {},
   "outputs": [
    {
     "name": "stderr",
     "output_type": "stream",
     "text": [
      "[Stage 3:>                                                          (0 + 1) / 1]\r"
     ]
    },
    {
     "name": "stdout",
     "output_type": "stream",
     "text": [
      "+-----+---+--------+-----------+\n",
      "| Name|Age|  Source|Destination|\n",
      "+-----+---+--------+-----------+\n",
      "|David| 22|  London|     Sydney|\n",
      "|Steve| 22|New York|         LA|\n",
      "+-----+---+--------+-----------+\n",
      "\n"
     ]
    },
    {
     "name": "stderr",
     "output_type": "stream",
     "text": [
      "\r",
      "                                                                                \r"
     ]
    }
   ],
   "source": [
    "df.show()"
   ]
  },
  {
   "cell_type": "code",
   "execution_count": null,
   "id": "c9c84edf",
   "metadata": {},
   "outputs": [],
   "source": []
  }
 ],
 "metadata": {
  "kernelspec": {
   "display_name": "Python 3 (ipykernel)",
   "language": "python",
   "name": "python3"
  },
  "language_info": {
   "codemirror_mode": {
    "name": "ipython",
    "version": 3
   },
   "file_extension": ".py",
   "mimetype": "text/x-python",
   "name": "python",
   "nbconvert_exporter": "python",
   "pygments_lexer": "ipython3",
   "version": "3.12.3"
  }
 },
 "nbformat": 4,
 "nbformat_minor": 5
}
